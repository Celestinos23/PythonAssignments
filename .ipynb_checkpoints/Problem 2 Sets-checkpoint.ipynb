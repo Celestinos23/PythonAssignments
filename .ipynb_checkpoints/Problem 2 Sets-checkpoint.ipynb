{
 "cells": [
  {
   "cell_type": "code",
   "execution_count": 3,
   "metadata": {},
   "outputs": [
    {
     "ename": "NameError",
     "evalue": "name 'silence_of_the_lambs' is not defined",
     "output_type": "error",
     "traceback": [
      "\u001b[0;31m---------------------------------------------------------------------------\u001b[0m",
      "\u001b[0;31mNameError\u001b[0m                                 Traceback (most recent call last)",
      "\u001b[0;32m<ipython-input-3-52c4828edd9a>\u001b[0m in \u001b[0;36m<module>\u001b[0;34m()\u001b[0m\n\u001b[0;32m----> 1\u001b[0;31m jeanine = {silence_of_the_lambs, two_weeks_notice,legally_blonde,\n\u001b[0m\u001b[1;32m      2\u001b[0m white_chicks,lord_of_the_rings, star_war,enigma,back_to_the_future}\n\u001b[1;32m      3\u001b[0m \u001b[0;34m\u001b[0m\u001b[0m\n\u001b[1;32m      4\u001b[0m Alex = {Pursuit_of_happyness,about_time,enigma,the_post,gladiator, \n\u001b[1;32m      5\u001b[0m captain_phillips,Perfume}\n",
      "\u001b[0;31mNameError\u001b[0m: name 'silence_of_the_lambs' is not defined"
     ]
    }
   ],
   "source": [
    "jeanine = set{silence_of_the_lambs, two_weeks_notice,legally_blonde,\n",
    "white_chicks,lord_of_the_rings, star_war,enigma,back_to_the_future}\n",
    "\n",
    "Alex = set{Pursuit_of_happyness,about_time,enigma,the_post,gladiator, \n",
    "captain_phillips,Perfume}\n"
   ]
  },
  {
   "cell_type": "code",
   "execution_count": null,
   "metadata": {},
   "outputs": [],
   "source": []
  },
  {
   "cell_type": "code",
   "execution_count": null,
   "metadata": {},
   "outputs": [],
   "source": []
  }
 ],
 "metadata": {
  "kernelspec": {
   "display_name": "Python 3",
   "language": "python",
   "name": "python3"
  },
  "language_info": {
   "codemirror_mode": {
    "name": "ipython",
    "version": 3
   },
   "file_extension": ".py",
   "mimetype": "text/x-python",
   "name": "python",
   "nbconvert_exporter": "python",
   "pygments_lexer": "ipython3",
   "version": "3.6.4"
  }
 },
 "nbformat": 4,
 "nbformat_minor": 2
}
