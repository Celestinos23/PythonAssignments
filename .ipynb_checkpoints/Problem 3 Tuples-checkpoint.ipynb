{
 "cells": [
  {
   "cell_type": "code",
   "execution_count": null,
   "metadata": {},
   "outputs": [],
   "source": [
    "schedule_for_today = ('Wake up', 'Take a shower', 'Go to work', 'Eat breakfast', 'Leave work', 'Eat lunch', 'Go to the gym', 'Take a shower', 'Eat dinner', 'Study', 'Sleep', )\n",
    "\n",
    "index = 0\n",
    "\n",
    "for element in (schedule_for_today):\n",
    "    print (element)\n",
    "    index += 1\n"
   ]
  }
 ],
 "metadata": {
  "kernelspec": {
   "display_name": "Python 3",
   "language": "python",
   "name": "python3"
  },
  "language_info": {
   "codemirror_mode": {
    "name": "ipython",
    "version": 3
   },
   "file_extension": ".py",
   "mimetype": "text/x-python",
   "name": "python",
   "nbconvert_exporter": "python",
   "pygments_lexer": "ipython3",
   "version": "3.6.4"
  }
 },
 "nbformat": 4,
 "nbformat_minor": 2
}
