{
 "cells": [
  {
   "cell_type": "code",
   "execution_count": 4,
   "metadata": {},
   "outputs": [],
   "source": [
    "schedule_for_today = ('Wake up', 'take a shower', 'to work', 'eat breakfast','eat lunch',  'leave work', 'go to the gym', 'eat dinner', 'study', 'sleep')"
   ]
  },
  {
   "cell_type": "code",
   "execution_count": 5,
   "metadata": {},
   "outputs": [],
   "source": [
    "def schedule():\n",
    "    for steps in schedule_for_today:\n",
    "        if steps == 'Wake up':\n",
    "            print('First I {}, then'.format(steps))\n",
    "\n",
    "        elif steps == 'take a shower':\n",
    "            print('I {}, dress up and get ready'.format(steps))\n",
    "\n",
    "        elif steps == 'to work':\n",
    "            print('{}, once there, i go straight and'.format(steps))\n",
    "\n",
    "        elif steps == 'eat breakfast':\n",
    "            print('{}, when i\\'m done with that, I continue working till 4:30pm.'.format(steps))\n",
    "\n",
    "        elif steps == 'eat lunch':\n",
    "            print('At 5:00pm I {}, and rest for few minutes'.format(steps))\n",
    "\n",
    "        elif steps == 'leave work':\n",
    "            print('after 20 minutes i {} and take the train'.format(steps))\n",
    "\n",
    "        elif steps == 'go to the gym':\n",
    "            print('drop off at myrtle ave {}, work out for 1 hour, take a shower and go home'.format(steps))\n",
    "\n",
    "        elif steps == 'eat dinner':\n",
    "            print('when home the first thing that i do is go and {}, rest and then'.format(steps))\n",
    "\n",
    "        elif steps == 'study':\n",
    "            print('I {} until i get tired so'.format(steps))\n",
    "\n",
    "        elif steps == 'sleep':\n",
    "            print('I fall {}'.format(steps))\n"
   ]
  },
  {
   "cell_type": "code",
   "execution_count": 6,
   "metadata": {},
   "outputs": [],
   "source": [
    "def main():\n",
    "    schedule()\n"
   ]
  },
  {
   "cell_type": "code",
   "execution_count": 8,
   "metadata": {},
   "outputs": [
    {
     "name": "stdout",
     "output_type": "stream",
     "text": [
      "First I Wake up, then\n",
      "I take a shower, dress up and get ready\n",
      "to work, once there, i go straight and\n",
      "eat breakfast, when i'm done with that, I continue working till 4:30pm.\n",
      "At 5:00pm I eat lunch, and rest for few minutes\n",
      "after 20 minutes i leave work and take the train\n",
      "drop off at myrtle ave go to the gym, work out for 1 hour, take a shower and go home\n",
      "when home the first thing that i do is go and eat dinner, rest and then\n",
      "I study until i get tired so\n",
      "I fall sleep\n"
     ]
    }
   ],
   "source": [
    "if __name__ == '__main__':\n",
    "    main()\n"
   ]
  },
  {
   "cell_type": "code",
   "execution_count": null,
   "metadata": {},
   "outputs": [],
   "source": []
  }
 ],
 "metadata": {
  "kernelspec": {
   "display_name": "Python 3",
   "language": "python",
   "name": "python3"
  },
  "language_info": {
   "codemirror_mode": {
    "name": "ipython",
    "version": 3
   },
   "file_extension": ".py",
   "mimetype": "text/x-python",
   "name": "python",
   "nbconvert_exporter": "python",
   "pygments_lexer": "ipython3",
   "version": "3.6.4"
  }
 },
 "nbformat": 4,
 "nbformat_minor": 2
}
