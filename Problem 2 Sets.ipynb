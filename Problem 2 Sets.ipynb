{
 "cells": [
  {
   "cell_type": "code",
   "execution_count": 12,
   "metadata": {
    "scrolled": true
   },
   "outputs": [],
   "source": [
    "j9movies = set(['silences of the lambs', 'two weeks notice','legally blonde','lord of the rings','star wars', 'enigma'])\n",
    "\n",
    "Alexmovies = set(['pursuit of happyness', 'about time', 'enigma', 'the post', 'gladiator', 'captain phillips'])\n",
    "\n"
   ]
  },
  {
   "cell_type": "code",
   "execution_count": 33,
   "metadata": {},
   "outputs": [
    {
     "name": "stdout",
     "output_type": "stream",
     "text": [
      "J9 Fave movies are:\n",
      "\n",
      "{'enigma', 'star wars', 'silences of the lambs', 'two weeks notice', 'legally blonde', 'lord of the rings'}\n",
      "\n",
      "Mine are:\n",
      "\n",
      "{'enigma', 'gladiator', 'the post', 'about time', 'pursuit of happyness', 'captain phillips'}\n"
     ]
    }
   ],
   "source": [
    "print('J9 Fave movies are:\\n')\n",
    "print(j9movies)\n",
    "\n",
    "print('\\nMine are:\\n')\n",
    "print (Alexmovies)"
   ]
  },
  {
   "cell_type": "code",
   "execution_count": 41,
   "metadata": {},
   "outputs": [
    {
     "name": "stdout",
     "output_type": "stream",
     "text": [
      "What favorite movies do you have in common with the other person?\n",
      "\n"
     ]
    },
    {
     "data": {
      "text/plain": [
       "{'enigma'}"
      ]
     },
     "execution_count": 41,
     "metadata": {},
     "output_type": "execute_result"
    }
   ],
   "source": [
    "\n",
    "print('What favorite movies do you have in common with the other person?\\n')\n",
    "\n",
    "j9movies.intersection(Alexmovies)\n",
    "\n"
   ]
  },
  {
   "cell_type": "code",
   "execution_count": 44,
   "metadata": {},
   "outputs": [
    {
     "name": "stdout",
     "output_type": "stream",
     "text": [
      "What movies are your favorite but aren't the other persons?\n",
      "\n",
      "I love these movies they are my favorite ones, and, J9 don't hate them she is just ok with it.\n"
     ]
    },
    {
     "data": {
      "text/plain": [
       "{'about time',\n",
       " 'captain phillips',\n",
       " 'gladiator',\n",
       " 'pursuit of happyness',\n",
       " 'the post'}"
      ]
     },
     "execution_count": 44,
     "metadata": {},
     "output_type": "execute_result"
    }
   ],
   "source": [
    "print('What movies are your favorite but aren\\'t the other persons?\\n')\n",
    "print('''I love these movies they are my favorite ones, and, J9 don\\'t hate them she is just ok with it.''')\n",
    "\n",
    "Alexmovies.difference(j9movies)\n",
    "\n"
   ]
  },
  {
   "cell_type": "code",
   "execution_count": null,
   "metadata": {},
   "outputs": [],
   "source": []
  },
  {
   "cell_type": "code",
   "execution_count": null,
   "metadata": {},
   "outputs": [],
   "source": []
  },
  {
   "cell_type": "code",
   "execution_count": null,
   "metadata": {},
   "outputs": [],
   "source": []
  }
 ],
 "metadata": {
  "kernelspec": {
   "display_name": "Python 3",
   "language": "python",
   "name": "python3"
  },
  "language_info": {
   "codemirror_mode": {
    "name": "ipython",
    "version": 3
   },
   "file_extension": ".py",
   "mimetype": "text/x-python",
   "name": "python",
   "nbconvert_exporter": "python",
   "pygments_lexer": "ipython3",
   "version": "3.6.4"
  }
 },
 "nbformat": 4,
 "nbformat_minor": 2
}
