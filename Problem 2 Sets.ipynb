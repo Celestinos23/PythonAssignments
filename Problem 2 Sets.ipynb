{
 "cells": [
  {
   "cell_type": "code",
   "execution_count": null,
   "metadata": {},
   "outputs": [],
   "source": [
    "jeanine = {silence of the lambs, two weeks notice, legally blonde,\n",
    "white chicks, lord of the rings, star war, enigma}\n",
    "\n",
    "Alex = {Pursuit of happyness, about time, enigma, the post, gladiator, \n",
    "captain phillips}\n"
   ]
  }
 ],
 "metadata": {
  "kernelspec": {
   "display_name": "Python 3",
   "language": "python",
   "name": "python3"
  },
  "language_info": {
   "codemirror_mode": {
    "name": "ipython",
    "version": 3
   },
   "file_extension": ".py",
   "mimetype": "text/x-python",
   "name": "python",
   "nbconvert_exporter": "python",
   "pygments_lexer": "ipython3",
   "version": "3.6.4"
  }
 },
 "nbformat": 4,
 "nbformat_minor": 2
}
